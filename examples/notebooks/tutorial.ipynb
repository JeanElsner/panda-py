{
 "cells": [
  {
   "cell_type": "markdown",
   "metadata": {},
   "source": [
    "# Examples\n",
    "\n",
    "This notebooks holds the examples from the paper `Taming the Panda with Python`."
   ]
  },
  {
   "cell_type": "code",
   "execution_count": 1,
   "metadata": {},
   "outputs": [],
   "source": [
    "# Panda hostname/IP and Desk login information of your robot\n",
    "hostname = '192.168.3.100'\n",
    "username = 'user'\n",
    "password = 'password'\n",
    "\n",
    "# panda-py is chatty, activate information log level\n",
    "import logging\n",
    "logging.basicConfig(level=logging.INFO)"
   ]
  },
  {
   "cell_type": "markdown",
   "metadata": {},
   "source": [
    "## Code Block 1\n",
    "\n",
    "Use the Desk client to connect to the web-application running on the control unit to unlock the brakes and activate the Franka Research Interface (FCI) for robot torque control."
   ]
  },
  {
   "cell_type": "code",
   "execution_count": 2,
   "metadata": {},
   "outputs": [
    {
     "name": "stderr",
     "output_type": "stream",
     "text": [
      "INFO:desk:Login succesful.\n",
      "INFO:desk:Legacy desk detected.\n"
     ]
    }
   ],
   "source": [
    "import panda_py\n",
    "\n",
    "desk = panda_py.Desk(hostname, username, password)\n",
    "desk.unlock()\n",
    "desk.activate_fci()"
   ]
  },
  {
   "cell_type": "markdown",
   "metadata": {},
   "source": [
    "## Code Block 2\n",
    "\n",
    "Connect to the robot using the Panda class. The default gripper from Franka Emika does not support real-time control and can be controlled using the libfranka bindings directly."
   ]
  },
  {
   "cell_type": "code",
   "execution_count": 3,
   "metadata": {},
   "outputs": [
    {
     "name": "stderr",
     "output_type": "stream",
     "text": [
      "INFO:panda:Connected to robot (172.16.0.2).\n"
     ]
    }
   ],
   "source": [
    "from panda_py import libfranka\n",
    "\n",
    "panda = panda_py.Panda(hostname)\n",
    "gripper = libfranka.Gripper(hostname)"
   ]
  },
  {
   "cell_type": "markdown",
   "metadata": {},
   "source": [
    "## Code Block 3\n",
    "\n",
    "Simple motion generation in joint space. The call to `get_pose` produces a $4\\times 4$ matrix representing the homogeneous transform from robot base to end-effector. The indices $2,3$ refer to third row and fourth column respectively, i.e. the z-coordinate. The position in z is lowered by $0.1\\mathrm{m}$ and passed to the inverse kinematics function to produce joint positions. Finally the call to `move_to_joint_position` generates a motion from the current to the desired joint potions."
   ]
  },
  {
   "cell_type": "code",
   "execution_count": 4,
   "metadata": {},
   "outputs": [
    {
     "name": "stderr",
     "output_type": "stream",
     "text": [
      "WARNING:panda:Irregular state detected. Attempting automatic error recovery.\n",
      "INFO:panda:Initializing motion generation (moveToJointPosition).\n",
      "INFO:motion:Computed joint trajectory: 1 waypoint, duration 0.81 seconds.\n",
      "INFO:panda:Starting new controller (Trajectory).\n",
      "INFO:panda:Stopping active controller (Trajectory).\n",
      "INFO:panda:Initializing motion generation (moveToJointPosition).\n",
      "INFO:motion:Computed joint trajectory: 1 waypoint, duration 0.80 seconds.\n",
      "INFO:panda:Starting new controller (Trajectory).\n"
     ]
    },
    {
     "data": {
      "text/plain": [
       "True"
      ]
     },
     "execution_count": 4,
     "metadata": {},
     "output_type": "execute_result"
    }
   ],
   "source": [
    "panda.move_to_start()\n",
    "pose = panda.get_pose()\n",
    "pose[2,3] -= .1\n",
    "q = panda_py.ik(pose)\n",
    "panda.move_to_joint_position(q)"
   ]
  },
  {
   "cell_type": "markdown",
   "metadata": {},
   "source": [
    "## Code Block 4\n",
    "\n",
    "Simple motion generation in Cartesian space. The z-coordinate of the current end-effector pose is lowered by $0.1\\mathrm{m}$ as in Code Block 3. However the resulting pose is passed directly to `move_to_pose` to produce a motion in Cartesian space."
   ]
  },
  {
   "cell_type": "code",
   "execution_count": 5,
   "metadata": {},
   "outputs": [
    {
     "name": "stderr",
     "output_type": "stream",
     "text": [
      "INFO:panda:Stopping active controller (Trajectory).\n",
      "INFO:panda:Initializing motion generation (moveToJointPosition).\n",
      "INFO:motion:Computed joint trajectory: 1 waypoint, duration 0.81 seconds.\n",
      "INFO:panda:Starting new controller (Trajectory).\n",
      "INFO:panda:Stopping active controller (Trajectory).\n",
      "INFO:panda:Initializing motion generation (moveToPose).\n",
      "INFO:motion:Computed Cartesian trajectory: 1 waypoint, duration 0.42 seconds.\n",
      "INFO:panda:Starting new controller (Trajectory).\n"
     ]
    },
    {
     "data": {
      "text/plain": [
       "True"
      ]
     },
     "execution_count": 5,
     "metadata": {},
     "output_type": "execute_result"
    }
   ],
   "source": [
    "panda.move_to_start()\n",
    "pose = panda.get_pose()\n",
    "pose[2,3] -= .1\n",
    "panda.move_to_pose(pose)"
   ]
  },
  {
   "cell_type": "markdown",
   "metadata": {},
   "source": [
    "## Inline Examples\n",
    "\n",
    "Various short examples used inline."
   ]
  },
  {
   "cell_type": "code",
   "execution_count": 6,
   "metadata": {},
   "outputs": [
    {
     "name": "stdout",
     "output_type": "stream",
     "text": [
      "{\"O_T_EE\": [0.999874,0.0148893,-0.00325974,0,0.0148838,-0.999878,-0.00171326,0,-0.00328492,0.00166456,-0.999993,0,0.306202,-0.000433196,0.385996,1], \"O_T_EE_d\": [0.999953,0.00776255,0.00369069,0,0.0077598,-0.99996,0.000758929,0,0.0036965,-0.000730269,-0.999993,0,0.307334,-0.000755249,0.487171,1], \"F_T_NE\": [0.7071,-0.7071,0,0,0.7071,0.7071,0,0,0,0,1,0,0,0,0.1034,1], \"NE_T_EE\": [1,0,0,0,0,1,0,0,0,0,1,0,0,0,0,1], \"F_T_EE\": [0.7071,-0.7071,0,0,0.7071,0.7071,0,0,0,0,1,0,0,0,0.1034,1], \"EE_T_K\": [1,0,0,0,0,1,0,0,0,0,1,0,0,0,0,1], \"m_ee\": 0.73, \"F_x_Cee\": [-0.01,0,0.03], \"I_ee\": [0.001,0,0,0,0.0025,0,0,0,0.0017], \"m_load\": 0, \"F_x_Cload\": [0,0,0], \"I_load\": [0,0,0,0,0,0,0,0,0], \"m_total\": 0.73, \"F_x_Ctotal\": [-0.01,0,0.03], \"I_total\": [0.001,0,0,0,0.0025,0,0,0,0.0017], \"elbow\": [-0.0126533,-1], \"elbow_d\": [-0.00180416,-1], \"elbow_c\": [0,0], \"delbow_c\": [0,0], \"ddelbow_c\": [0,0], \"tau_J\": [0.231179,-4.22711,-0.166156,23.1744,0.565856,2.51057,0.225773], \"tau_J_d\": [0.264577,-0.753997,0.0864655,0.380522,-0.615679,0.691223,0.410306], \"dtau_J\": [-12.5563,-22.5731,25.539,-61.5209,-24.1089,26.4917,-25.394], \"q\": [0.0134956,-0.816075,-0.0126533,-2.6313,-0.00776154,1.81199,0.777219], \"dq\": [-6.52497e-05,0.000558261,-0.000598661,0.000700639,0.000576107,-0.000414896,0.000386785], \"q_d\": [0.000828788,-0.786474,-0.00180416,-2.3569,-0.00200573,1.57413,0.777192], \"dq_d\": [0,0,0,0,0,0,0], \"ddq_d\": [0,0,0,0,0,0,0], \"joint_contact\": [0,0,0,0,0,0,0], \"cartesian_contact\": [0,0,0,0,0,0], \"joint_collision\": [0,0,0,0,0,0,0], \"cartesian_collision\": [0,0,0,0,0,0], \"tau_ext_hat_filtered\": [0.229643,-0.45537,0.330193,0.741311,-0.163977,0.249969,0.2401], \"O_F_ext_hat_K\": [0.244942,1.05683,1.24929,-0.767067,-0.378522,0.139047], \"K_F_ext_hat_K\": [0.256579,-1.05522,-1.24833,-0.3593,0.0855084,0.18569], \"O_dP_EE_d\": [0,0,0,0,0,0], \"O_T_EE_c\": [0,0,0,0,0,0,0,0,0,0,0,0,0,0,0,0], \"O_dP_EE_c\": [0,0,0,0,0,0], \"O_ddP_EE_c\": [0,0,0,0,0,0], \"theta\": [0.0135118,-0.816372,-0.0126649,-2.62968,-0.00769867,1.81227,0.777244], \"dtheta\": [0,0,0,0,0,0,0], \"current_errors\": [], \"last_motion_errors\": [], \"control_command_success_rate\": 0.9, \"robot_mode\": \"Move\", \"time\": 939395}\n",
      "<panda_py.libfranka.Model object at 0x7fbee2438530>\n"
     ]
    },
    {
     "data": {
      "text/plain": [
       "True"
      ]
     },
     "execution_count": 6,
     "metadata": {},
     "output_type": "execute_result"
    }
   ],
   "source": [
    "print(panda.get_state())\n",
    "print(panda.get_model())\n",
    "gripper.grasp(0, 0.2, 10, 0.04, 0.04)\n",
    "gripper.move(0.08, 0.2)"
   ]
  },
  {
   "cell_type": "markdown",
   "metadata": {},
   "source": [
    "## Code Block 5\n",
    "\n",
    "Using the integrated logging mechanism, the libfranka `RobotState` can be logged at a frequency of $1\\mathrm{kHz}$. This example creates two end-effector poses `T_0` and `T_1` based on the starting pose, displaced $0.25\\mathrm{m}$ to the left and right respectively. Before a motion is generated between these poses, logging is enabled for this Panda instance (line 9). The enable logging function takes the buffer size in number of steps as argument. As such, $2e3$ steps at $1\\mathrm{kHz}$ correspond to a buffer holding the state of the past 2 seconds. After the motion is finished, logging is disabled and the buffer retrieved (line 14)."
   ]
  },
  {
   "cell_type": "code",
   "execution_count": 7,
   "metadata": {},
   "outputs": [
    {
     "name": "stderr",
     "output_type": "stream",
     "text": [
      "INFO:panda:Stopping active controller (Trajectory).\n",
      "INFO:panda:Initializing motion generation (moveToPose).\n",
      "INFO:motion:Computed Cartesian trajectory: 1 waypoint, duration 0.87 seconds.\n",
      "INFO:panda:Starting new controller (Trajectory).\n",
      "INFO:panda:Stopping active controller (Trajectory).\n",
      "INFO:panda:Initializing motion generation (moveToPose).\n",
      "INFO:motion:Computed Cartesian trajectory: 1 waypoint, duration 29.46 seconds.\n",
      "INFO:panda:Starting new controller (Trajectory).\n",
      "INFO:panda:Stopping active controller (Trajectory).\n",
      "INFO:panda:Initializing motion generation (moveToPose).\n",
      "INFO:motion:Computed Cartesian trajectory: 1 waypoint, duration 1.60 seconds.\n",
      "INFO:panda:Starting new controller (Trajectory).\n",
      "INFO:panda:Stopping active controller (Trajectory).\n",
      "INFO:panda:Initializing motion generation (moveToJointPosition).\n",
      "INFO:motion:Computed joint trajectory: 1 waypoint, duration 3.98 seconds.\n",
      "INFO:panda:Starting new controller (Trajectory).\n"
     ]
    }
   ],
   "source": [
    "from panda_py import constants\n",
    "import numpy as np\n",
    "\n",
    "T_0 = panda_py.fk(constants.JOINT_POSITION_START)\n",
    "T_0[1, 3] = 0.25\n",
    "T_1 = T_0.copy()\n",
    "T_1[1, 3] = -0.25\n",
    "\n",
    "panda.move_to_pose(T_0)\n",
    "panda.enable_logging(40000)\n",
    "panda.move_to_pose(T_1,\n",
    "                   speed_factor=0.01,\n",
    "                   stiffness=2 * np.array([600, 600, 600, 600, 250, 150, 50]))\n",
    "panda.disable_logging()\n",
    "log = panda.get_log()\n",
    "\n",
    "panda.move_to_pose(T_0)\n",
    "panda.enable_logging(10000)\n",
    "panda.move_to_joint_position(panda_py.ik(T_1))\n",
    "panda.disable_logging()\n",
    "joint_log = panda.get_log()"
   ]
  },
  {
   "cell_type": "code",
   "execution_count": 8,
   "metadata": {},
   "outputs": [
    {
     "data": {
      "image/png": "[encoded data removed]",
      "text/plain": [
       "<Figure size 600x300 with 2 Axes>"
      ]
     },
     "metadata": {},
     "output_type": "display_data"
    }
   ],
   "source": [
    "from matplotlib import pyplot as plt\n",
    "\n",
    "def plot(O_T_EE, ax, title: str):\n",
    "  ax.plot(O_T_EE[:,13], O_T_EE[:,14])\n",
    "  ax.set_xlim(-0.3,0.3)\n",
    "  ax.set_ylim(0.25,0.75)\n",
    "  ax.set_xlabel('y (m)')\n",
    "  ax.set_ylabel('z (m)')\n",
    "  ax.grid(True)\n",
    "  ax.set_title(title)\n",
    "\n",
    "fig, (ax0, ax1) = plt.subplots(1, 2, figsize=(6,3))\n",
    "plot(np.array(log['O_T_EE']), ax0, 'Cartesian Motion Path')\n",
    "plot(np.array(joint_log['O_T_EE']), ax1, 'Joint Motion Path')\n",
    "fig.tight_layout()"
   ]
  },
  {
   "cell_type": "markdown",
   "metadata": {},
   "source": [
    "## Code Block 6\n",
    "\n",
    "Running a panda-py controller. After initializing the controller, the current position and orientation are stored in `x0` and `q0` respectively, where `q0` is a quaternion representation of the end-effector orientation. After starting the controller, a `PandaContext` is created from the Panda object (line 10). `PandaContext` is a convenient context manager that executes a loop at a fixed frequency for an optional amount of time. The call to `PandaContext.ok` throttles the loop and also raises any control exceptions that may have been raised by libfranka. Use of `PandaContext` is optional and users are free to manage the control flow how they wish. In this example a periodic linear displacement along the y-axis is added to the initial pose (line 13). This results in the end-effector moving periodically from left to right in straight lines.\n",
    "\n",
    "> **Info**\n",
    ">\n",
    "> This Code Block doesn't run well inside IPython notebooks and may not finish successfully. Please run the example located at `examples/cartesian_impedance.py` instead.\n"
   ]
  },
  {
   "cell_type": "markdown",
   "metadata": {},
   "source": [
    "## Code Block 7\n",
    "\n",
    "Code Block 7: Resolved rate controller with reactive manipulability maximization. This example is from the Robotics Toolbox for Python. To run it on the real hardware with panda-py requires only connecting the inputs and outputs of the control loop to panda-py, i.e., using the joint positions `Panda.q` and providing the control signal to `IntegrateVelocity.set control`. Additionally, the inequality constraints to avoid the joint limits were removed, as panda-py controllers already have integrated joint limit avoidance using impedance control.\n",
    "\n",
    "> **Info**\n",
    ">\n",
    "> This Code Block doesn't run well inside IPython notebooks and may not finish successfully. Please run the example located at `examples/mmc.py` instead."
   ]
  }
 ],
 "metadata": {
  "kernelspec": {
   "display_name": "Python 3",
   "language": "python",
   "name": "python3"
  },
  "language_info": {
   "codemirror_mode": {
    "name": "ipython",
    "version": 3
   },
   "file_extension": ".py",
   "mimetype": "text/x-python",
   "name": "python",
   "nbconvert_exporter": "python",
   "pygments_lexer": "ipython3",
   "version": "3.10.6"
  },
  "orig_nbformat": 4
 },
 "nbformat": 4,
 "nbformat_minor": 2
}
